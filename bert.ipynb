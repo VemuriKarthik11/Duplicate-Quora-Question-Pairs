{
  "nbformat": 4,
  "nbformat_minor": 0,
  "metadata": {
    "colab": {
      "provenance": []
    },
    "kernelspec": {
      "name": "python3",
      "display_name": "Python 3"
    },
    "language_info": {
      "name": "python"
    },
    "widgets": {
      "application/vnd.jupyter.widget-state+json": {
        "042735fdc83b4cff8bb98e4602ed3b61": {
          "model_module": "@jupyter-widgets/controls",
          "model_name": "HBoxModel",
          "model_module_version": "1.5.0",
          "state": {
            "_dom_classes": [],
            "_model_module": "@jupyter-widgets/controls",
            "_model_module_version": "1.5.0",
            "_model_name": "HBoxModel",
            "_view_count": null,
            "_view_module": "@jupyter-widgets/controls",
            "_view_module_version": "1.5.0",
            "_view_name": "HBoxView",
            "box_style": "",
            "children": [
              "IPY_MODEL_ebf726044e354b3ea7b26d774899b060",
              "IPY_MODEL_99609c33efcf4e56bb2b7aaab56269fa",
              "IPY_MODEL_fe907145e0e14e1c88a3c9fa30f6ca8f"
            ],
            "layout": "IPY_MODEL_9b7d0453951440a28e8ba89145a9e3ba"
          }
        },
        "ebf726044e354b3ea7b26d774899b060": {
          "model_module": "@jupyter-widgets/controls",
          "model_name": "HTMLModel",
          "model_module_version": "1.5.0",
          "state": {
            "_dom_classes": [],
            "_model_module": "@jupyter-widgets/controls",
            "_model_module_version": "1.5.0",
            "_model_name": "HTMLModel",
            "_view_count": null,
            "_view_module": "@jupyter-widgets/controls",
            "_view_module_version": "1.5.0",
            "_view_name": "HTMLView",
            "description": "",
            "description_tooltip": null,
            "layout": "IPY_MODEL_124e5a8d37134c2bbff5f57b763c968e",
            "placeholder": "​",
            "style": "IPY_MODEL_a6d775d2abf7453ca361245457bfd5d9",
            "value": "Map: 100%"
          }
        },
        "99609c33efcf4e56bb2b7aaab56269fa": {
          "model_module": "@jupyter-widgets/controls",
          "model_name": "FloatProgressModel",
          "model_module_version": "1.5.0",
          "state": {
            "_dom_classes": [],
            "_model_module": "@jupyter-widgets/controls",
            "_model_module_version": "1.5.0",
            "_model_name": "FloatProgressModel",
            "_view_count": null,
            "_view_module": "@jupyter-widgets/controls",
            "_view_module_version": "1.5.0",
            "_view_name": "ProgressView",
            "bar_style": "success",
            "description": "",
            "description_tooltip": null,
            "layout": "IPY_MODEL_4c2bf2e74de740db82592aff8b3721ff",
            "max": 1000,
            "min": 0,
            "orientation": "horizontal",
            "style": "IPY_MODEL_2434f6859dd2488b840873316d081027",
            "value": 1000
          }
        },
        "fe907145e0e14e1c88a3c9fa30f6ca8f": {
          "model_module": "@jupyter-widgets/controls",
          "model_name": "HTMLModel",
          "model_module_version": "1.5.0",
          "state": {
            "_dom_classes": [],
            "_model_module": "@jupyter-widgets/controls",
            "_model_module_version": "1.5.0",
            "_model_name": "HTMLModel",
            "_view_count": null,
            "_view_module": "@jupyter-widgets/controls",
            "_view_module_version": "1.5.0",
            "_view_name": "HTMLView",
            "description": "",
            "description_tooltip": null,
            "layout": "IPY_MODEL_91fff275bf9b4a029ed5ba398c768ebf",
            "placeholder": "​",
            "style": "IPY_MODEL_2036ca4e426447e7a02e7adfb816c619",
            "value": " 1000/1000 [00:00&lt;00:00, 1824.58 examples/s]"
          }
        },
        "9b7d0453951440a28e8ba89145a9e3ba": {
          "model_module": "@jupyter-widgets/base",
          "model_name": "LayoutModel",
          "model_module_version": "1.2.0",
          "state": {
            "_model_module": "@jupyter-widgets/base",
            "_model_module_version": "1.2.0",
            "_model_name": "LayoutModel",
            "_view_count": null,
            "_view_module": "@jupyter-widgets/base",
            "_view_module_version": "1.2.0",
            "_view_name": "LayoutView",
            "align_content": null,
            "align_items": null,
            "align_self": null,
            "border": null,
            "bottom": null,
            "display": null,
            "flex": null,
            "flex_flow": null,
            "grid_area": null,
            "grid_auto_columns": null,
            "grid_auto_flow": null,
            "grid_auto_rows": null,
            "grid_column": null,
            "grid_gap": null,
            "grid_row": null,
            "grid_template_areas": null,
            "grid_template_columns": null,
            "grid_template_rows": null,
            "height": null,
            "justify_content": null,
            "justify_items": null,
            "left": null,
            "margin": null,
            "max_height": null,
            "max_width": null,
            "min_height": null,
            "min_width": null,
            "object_fit": null,
            "object_position": null,
            "order": null,
            "overflow": null,
            "overflow_x": null,
            "overflow_y": null,
            "padding": null,
            "right": null,
            "top": null,
            "visibility": null,
            "width": null
          }
        },
        "124e5a8d37134c2bbff5f57b763c968e": {
          "model_module": "@jupyter-widgets/base",
          "model_name": "LayoutModel",
          "model_module_version": "1.2.0",
          "state": {
            "_model_module": "@jupyter-widgets/base",
            "_model_module_version": "1.2.0",
            "_model_name": "LayoutModel",
            "_view_count": null,
            "_view_module": "@jupyter-widgets/base",
            "_view_module_version": "1.2.0",
            "_view_name": "LayoutView",
            "align_content": null,
            "align_items": null,
            "align_self": null,
            "border": null,
            "bottom": null,
            "display": null,
            "flex": null,
            "flex_flow": null,
            "grid_area": null,
            "grid_auto_columns": null,
            "grid_auto_flow": null,
            "grid_auto_rows": null,
            "grid_column": null,
            "grid_gap": null,
            "grid_row": null,
            "grid_template_areas": null,
            "grid_template_columns": null,
            "grid_template_rows": null,
            "height": null,
            "justify_content": null,
            "justify_items": null,
            "left": null,
            "margin": null,
            "max_height": null,
            "max_width": null,
            "min_height": null,
            "min_width": null,
            "object_fit": null,
            "object_position": null,
            "order": null,
            "overflow": null,
            "overflow_x": null,
            "overflow_y": null,
            "padding": null,
            "right": null,
            "top": null,
            "visibility": null,
            "width": null
          }
        },
        "a6d775d2abf7453ca361245457bfd5d9": {
          "model_module": "@jupyter-widgets/controls",
          "model_name": "DescriptionStyleModel",
          "model_module_version": "1.5.0",
          "state": {
            "_model_module": "@jupyter-widgets/controls",
            "_model_module_version": "1.5.0",
            "_model_name": "DescriptionStyleModel",
            "_view_count": null,
            "_view_module": "@jupyter-widgets/base",
            "_view_module_version": "1.2.0",
            "_view_name": "StyleView",
            "description_width": ""
          }
        },
        "4c2bf2e74de740db82592aff8b3721ff": {
          "model_module": "@jupyter-widgets/base",
          "model_name": "LayoutModel",
          "model_module_version": "1.2.0",
          "state": {
            "_model_module": "@jupyter-widgets/base",
            "_model_module_version": "1.2.0",
            "_model_name": "LayoutModel",
            "_view_count": null,
            "_view_module": "@jupyter-widgets/base",
            "_view_module_version": "1.2.0",
            "_view_name": "LayoutView",
            "align_content": null,
            "align_items": null,
            "align_self": null,
            "border": null,
            "bottom": null,
            "display": null,
            "flex": null,
            "flex_flow": null,
            "grid_area": null,
            "grid_auto_columns": null,
            "grid_auto_flow": null,
            "grid_auto_rows": null,
            "grid_column": null,
            "grid_gap": null,
            "grid_row": null,
            "grid_template_areas": null,
            "grid_template_columns": null,
            "grid_template_rows": null,
            "height": null,
            "justify_content": null,
            "justify_items": null,
            "left": null,
            "margin": null,
            "max_height": null,
            "max_width": null,
            "min_height": null,
            "min_width": null,
            "object_fit": null,
            "object_position": null,
            "order": null,
            "overflow": null,
            "overflow_x": null,
            "overflow_y": null,
            "padding": null,
            "right": null,
            "top": null,
            "visibility": null,
            "width": null
          }
        },
        "2434f6859dd2488b840873316d081027": {
          "model_module": "@jupyter-widgets/controls",
          "model_name": "ProgressStyleModel",
          "model_module_version": "1.5.0",
          "state": {
            "_model_module": "@jupyter-widgets/controls",
            "_model_module_version": "1.5.0",
            "_model_name": "ProgressStyleModel",
            "_view_count": null,
            "_view_module": "@jupyter-widgets/base",
            "_view_module_version": "1.2.0",
            "_view_name": "StyleView",
            "bar_color": null,
            "description_width": ""
          }
        },
        "91fff275bf9b4a029ed5ba398c768ebf": {
          "model_module": "@jupyter-widgets/base",
          "model_name": "LayoutModel",
          "model_module_version": "1.2.0",
          "state": {
            "_model_module": "@jupyter-widgets/base",
            "_model_module_version": "1.2.0",
            "_model_name": "LayoutModel",
            "_view_count": null,
            "_view_module": "@jupyter-widgets/base",
            "_view_module_version": "1.2.0",
            "_view_name": "LayoutView",
            "align_content": null,
            "align_items": null,
            "align_self": null,
            "border": null,
            "bottom": null,
            "display": null,
            "flex": null,
            "flex_flow": null,
            "grid_area": null,
            "grid_auto_columns": null,
            "grid_auto_flow": null,
            "grid_auto_rows": null,
            "grid_column": null,
            "grid_gap": null,
            "grid_row": null,
            "grid_template_areas": null,
            "grid_template_columns": null,
            "grid_template_rows": null,
            "height": null,
            "justify_content": null,
            "justify_items": null,
            "left": null,
            "margin": null,
            "max_height": null,
            "max_width": null,
            "min_height": null,
            "min_width": null,
            "object_fit": null,
            "object_position": null,
            "order": null,
            "overflow": null,
            "overflow_x": null,
            "overflow_y": null,
            "padding": null,
            "right": null,
            "top": null,
            "visibility": null,
            "width": null
          }
        },
        "2036ca4e426447e7a02e7adfb816c619": {
          "model_module": "@jupyter-widgets/controls",
          "model_name": "DescriptionStyleModel",
          "model_module_version": "1.5.0",
          "state": {
            "_model_module": "@jupyter-widgets/controls",
            "_model_module_version": "1.5.0",
            "_model_name": "DescriptionStyleModel",
            "_view_count": null,
            "_view_module": "@jupyter-widgets/base",
            "_view_module_version": "1.2.0",
            "_view_name": "StyleView",
            "description_width": ""
          }
        }
      }
    }
  },
  "cells": [
    {
      "cell_type": "code",
      "source": [
        "# ✅ BERT for Quora Question Pairs: Duplicate Detection + Gradio App (Lightweight Version)\n",
        "\n",
        "# 1. Install Dependencies\n",
        "!pip install transformers datasets gradio -q\n",
        "\n",
        "# 2. Import Libraries\n",
        "import pandas as pd\n",
        "from datasets import Dataset\n",
        "from transformers import AutoTokenizer, AutoModelForSequenceClassification, TrainingArguments, Trainer\n",
        "from sklearn.metrics import accuracy_score, f1_score\n",
        "import gradio as gr\n",
        "import os\n",
        "os.environ[\"WANDB_DISABLED\"] = \"true\"  # Disable Weights & Biases logging\n",
        "\n",
        "# 3. Load Dataset (very small subset for fast testing)\n",
        "df = pd.read_csv(\"train.csv\").dropna()\n",
        "df = df.sample(1000, random_state=42)  # Even smaller sample for speed\n",
        "\n",
        "df = df.rename(columns={'question1': 'text1', 'question2': 'text2', 'is_duplicate': 'label'})\n",
        "dataset = Dataset.from_pandas(df[['text1', 'text2', 'label']])\n",
        "\n",
        "# 4. Tokenization\n",
        "tokenizer = AutoTokenizer.from_pretrained(\"bert-base-uncased\")\n",
        "\n",
        "def tokenize(example):\n",
        "    return tokenizer(example['text1'], example['text2'], truncation=True, padding='max_length', max_length=128)\n",
        "\n",
        "tokenized_dataset = dataset.map(tokenize, batched=True)\n",
        "tokenized_dataset = tokenized_dataset.train_test_split(test_size=0.2)\n",
        "\n",
        "# 5. Load Model\n",
        "model = AutoModelForSequenceClassification.from_pretrained(\"bert-base-uncased\", num_labels=2)"
      ],
      "metadata": {
        "colab": {
          "base_uri": "https://localhost:8080/",
          "height": 104,
          "referenced_widgets": [
            "042735fdc83b4cff8bb98e4602ed3b61",
            "ebf726044e354b3ea7b26d774899b060",
            "99609c33efcf4e56bb2b7aaab56269fa",
            "fe907145e0e14e1c88a3c9fa30f6ca8f",
            "9b7d0453951440a28e8ba89145a9e3ba",
            "124e5a8d37134c2bbff5f57b763c968e",
            "a6d775d2abf7453ca361245457bfd5d9",
            "4c2bf2e74de740db82592aff8b3721ff",
            "2434f6859dd2488b840873316d081027",
            "91fff275bf9b4a029ed5ba398c768ebf",
            "2036ca4e426447e7a02e7adfb816c619"
          ]
        },
        "id": "nPrFkXrIzt3S",
        "outputId": "40d1b3e3-4ac2-4e90-d0b9-0f61d0b6d24b"
      },
      "execution_count": null,
      "outputs": [
        {
          "output_type": "display_data",
          "data": {
            "text/plain": [
              "Map:   0%|          | 0/1000 [00:00<?, ? examples/s]"
            ],
            "application/vnd.jupyter.widget-view+json": {
              "version_major": 2,
              "version_minor": 0,
              "model_id": "042735fdc83b4cff8bb98e4602ed3b61"
            }
          },
          "metadata": {}
        },
        {
          "output_type": "stream",
          "name": "stderr",
          "text": [
            "Some weights of BertForSequenceClassification were not initialized from the model checkpoint at bert-base-uncased and are newly initialized: ['classifier.bias', 'classifier.weight']\n",
            "You should probably TRAIN this model on a down-stream task to be able to use it for predictions and inference.\n"
          ]
        }
      ]
    },
    {
      "cell_type": "code",
      "source": [
        "# 6. Training Arguments\n",
        "training_args = TrainingArguments(\n",
        "    output_dir=\"./results\",\n",
        "    # Changed evaluation_strategy to eval_strategy for compatibility with newer transformers versions\n",
        "    eval_strategy=\"epoch\",\n",
        "    save_strategy=\"no\",\n",
        "    learning_rate=2e-5,\n",
        "    per_device_train_batch_size=8,\n",
        "    per_device_eval_batch_size=8,\n",
        "    num_train_epochs=1,\n",
        "    weight_decay=0.01,\n",
        "    logging_steps=10,\n",
        "    disable_tqdm=True,\n",
        "    report_to=[],  # prevent extra logging\n",
        ")"
      ],
      "metadata": {
        "id": "tJSPSsiB07l8"
      },
      "execution_count": null,
      "outputs": []
    },
    {
      "cell_type": "code",
      "source": [
        "# 7. Metrics\n",
        "def compute_metrics(pred):\n",
        "    labels = pred.label_ids\n",
        "    preds = pred.predictions.argmax(-1)\n",
        "    return {\n",
        "        \"accuracy\": accuracy_score(labels, preds),\n",
        "        \"f1\": f1_score(labels, preds)\n",
        "    }\n",
        "\n",
        "# 8. Trainer\n",
        "trainer = Trainer(\n",
        "    model=model,\n",
        "    args=training_args,\n",
        "    train_dataset=tokenized_dataset[\"train\"],\n",
        "    eval_dataset=tokenized_dataset[\"test\"],\n",
        "    compute_metrics=compute_metrics,\n",
        ")\n",
        "\n",
        "# 9. Train the model\n",
        "trainer.train()\n",
        "\n",
        "# 10. Evaluate\n",
        "trainer.evaluate()"
      ],
      "metadata": {
        "colab": {
          "base_uri": "https://localhost:8080/"
        },
        "id": "ArHAsawu2zwe",
        "outputId": "8408b16d-52c8-4cad-deda-127ffe067977"
      },
      "execution_count": null,
      "outputs": [
        {
          "output_type": "stream",
          "name": "stdout",
          "text": [
            "{'loss': 0.6557, 'grad_norm': 4.085048198699951, 'learning_rate': 1.8200000000000002e-05, 'epoch': 0.1}\n",
            "{'loss': 0.7016, 'grad_norm': 6.4664812088012695, 'learning_rate': 1.62e-05, 'epoch': 0.2}\n",
            "{'loss': 0.6294, 'grad_norm': 8.57040786743164, 'learning_rate': 1.4200000000000001e-05, 'epoch': 0.3}\n",
            "{'loss': 0.6219, 'grad_norm': 4.426288604736328, 'learning_rate': 1.22e-05, 'epoch': 0.4}\n",
            "{'loss': 0.6362, 'grad_norm': 4.70740270614624, 'learning_rate': 1.02e-05, 'epoch': 0.5}\n",
            "{'loss': 0.6042, 'grad_norm': 5.805069446563721, 'learning_rate': 8.2e-06, 'epoch': 0.6}\n",
            "{'loss': 0.5785, 'grad_norm': 4.6322340965271, 'learning_rate': 6.200000000000001e-06, 'epoch': 0.7}\n",
            "{'loss': 0.5483, 'grad_norm': 8.116912841796875, 'learning_rate': 4.2000000000000004e-06, 'epoch': 0.8}\n",
            "{'loss': 0.5737, 'grad_norm': 2.651797294616699, 'learning_rate': 2.2e-06, 'epoch': 0.9}\n",
            "{'loss': 0.5118, 'grad_norm': 10.44213581085205, 'learning_rate': 2.0000000000000002e-07, 'epoch': 1.0}\n",
            "{'eval_loss': 0.5443378686904907, 'eval_accuracy': 0.625, 'eval_f1': 0.0, 'eval_runtime': 86.1, 'eval_samples_per_second': 2.323, 'eval_steps_per_second': 0.29, 'epoch': 1.0}\n",
            "{'train_runtime': 1295.8388, 'train_samples_per_second': 0.617, 'train_steps_per_second': 0.077, 'train_loss': 0.6061174440383911, 'epoch': 1.0}\n",
            "{'eval_loss': 0.5443378686904907, 'eval_accuracy': 0.625, 'eval_f1': 0.0, 'eval_runtime': 86.1386, 'eval_samples_per_second': 2.322, 'eval_steps_per_second': 0.29, 'epoch': 1.0}\n"
          ]
        },
        {
          "output_type": "execute_result",
          "data": {
            "text/plain": [
              "{'eval_loss': 0.5443378686904907,\n",
              " 'eval_accuracy': 0.625,\n",
              " 'eval_f1': 0.0,\n",
              " 'eval_runtime': 86.1386,\n",
              " 'eval_samples_per_second': 2.322,\n",
              " 'eval_steps_per_second': 0.29,\n",
              " 'epoch': 1.0}"
            ]
          },
          "metadata": {},
          "execution_count": 25
        }
      ]
    },
    {
      "cell_type": "code",
      "source": [
        "# 11. Gradio Interface for Live Testing\n",
        "def predict_duplicate(q1, q2):\n",
        "    inputs = tokenizer(q1, q2, return_tensors=\"pt\", truncation=True, padding=True, max_length=128)\n",
        "    outputs = model(**inputs)\n",
        "    probs = outputs.logits.softmax(dim=1).detach().numpy()[0]\n",
        "    label = \"Duplicate\" if probs[1] > 0.5 else \"Not Duplicate\"\n",
        "    confidence = round(float(probs[1]), 3)\n",
        "    return f\"{label} (Confidence: {confidence})\"\n",
        "\n",
        "interface = gr.Interface(\n",
        "    fn=predict_duplicate,\n",
        "    inputs=[gr.Textbox(label=\"Question 1\"), gr.Textbox(label=\"Question 2\")],\n",
        "    outputs=\"text\",\n",
        "    title=\"Quora Duplicate Question Detector\",\n",
        "    description=\"Enter two questions to check if they are duplicates using a BERT model.\"\n",
        ")\n",
        "\n",
        "# 12. Launch App\n",
        "interface.launch()\n"
      ],
      "metadata": {
        "colab": {
          "base_uri": "https://localhost:8080/",
          "height": 646
        },
        "id": "xwwToYYA25Qy",
        "outputId": "c93221e2-c7a5-453b-f613-83af16d00800"
      },
      "execution_count": null,
      "outputs": [
        {
          "output_type": "stream",
          "name": "stdout",
          "text": [
            "It looks like you are running Gradio on a hosted a Jupyter notebook. For the Gradio app to work, sharing must be enabled. Automatically setting `share=True` (you can turn this off by setting `share=False` in `launch()` explicitly).\n",
            "\n",
            "Colab notebook detected. To show errors in colab notebook, set debug=True in launch()\n",
            "* Running on public URL: https://630719ee4339c06554.gradio.live\n",
            "\n",
            "This share link expires in 1 week. For free permanent hosting and GPU upgrades, run `gradio deploy` from the terminal in the working directory to deploy to Hugging Face Spaces (https://huggingface.co/spaces)\n"
          ]
        },
        {
          "output_type": "display_data",
          "data": {
            "text/plain": [
              "<IPython.core.display.HTML object>"
            ],
            "text/html": [
              "<div><iframe src=\"https://630719ee4339c06554.gradio.live\" width=\"100%\" height=\"500\" allow=\"autoplay; camera; microphone; clipboard-read; clipboard-write;\" frameborder=\"0\" allowfullscreen></iframe></div>"
            ]
          },
          "metadata": {}
        },
        {
          "output_type": "execute_result",
          "data": {
            "text/plain": []
          },
          "metadata": {},
          "execution_count": 26
        }
      ]
    },
    {
      "cell_type": "code",
      "source": [],
      "metadata": {
        "id": "UEMosxdP8SaK"
      },
      "execution_count": null,
      "outputs": []
    }
  ]
}